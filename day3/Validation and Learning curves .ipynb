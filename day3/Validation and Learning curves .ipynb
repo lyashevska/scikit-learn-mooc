{
 "cells": [
  {
   "cell_type": "markdown",
   "id": "f680cd98",
   "metadata": {},
   "source": [
    "## Validation and Learning curves"
   ]
  },
  {
   "cell_type": "code",
   "execution_count": 6,
   "id": "621115ab",
   "metadata": {},
   "outputs": [],
   "source": [
    "from sklearn.datasets import fetch_california_housing"
   ]
  },
  {
   "cell_type": "code",
   "execution_count": 7,
   "id": "ce3d7fb9",
   "metadata": {},
   "outputs": [],
   "source": [
    "housing = fetch_california_housing(as_frame=True)"
   ]
  },
  {
   "cell_type": "code",
   "execution_count": 11,
   "id": "ff2c6a95",
   "metadata": {},
   "outputs": [],
   "source": [
    "data, target = housing.data, housing.target"
   ]
  },
  {
   "cell_type": "code",
   "execution_count": 13,
   "id": "6e1f95af",
   "metadata": {},
   "outputs": [],
   "source": [
    "target *= 100"
   ]
  },
  {
   "cell_type": "code",
   "execution_count": 14,
   "id": "1a12f0c1",
   "metadata": {},
   "outputs": [
    {
     "data": {
      "text/plain": [
       "0        452.6\n",
       "1        358.5\n",
       "2        352.1\n",
       "3        341.3\n",
       "4        342.2\n",
       "         ...  \n",
       "20635     78.1\n",
       "20636     77.1\n",
       "20637     92.3\n",
       "20638     84.7\n",
       "20639     89.4\n",
       "Name: MedHouseVal, Length: 20640, dtype: float64"
      ]
     },
     "execution_count": 14,
     "metadata": {},
     "output_type": "execute_result"
    }
   ],
   "source": [
    "target"
   ]
  },
  {
   "cell_type": "code",
   "execution_count": 15,
   "id": "cc728ab2",
   "metadata": {},
   "outputs": [],
   "source": [
    "from sklearn.tree import DecisionTreeRegressor"
   ]
  },
  {
   "cell_type": "code",
   "execution_count": 17,
   "id": "fe57dc5d",
   "metadata": {},
   "outputs": [],
   "source": [
    "?DecisionTreeRegressor"
   ]
  },
  {
   "cell_type": "code",
   "execution_count": 18,
   "id": "f1012a39",
   "metadata": {},
   "outputs": [],
   "source": [
    "regressor = DecisionTreeRegressor()"
   ]
  },
  {
   "cell_type": "code",
   "execution_count": 19,
   "id": "dc5b5954",
   "metadata": {},
   "outputs": [],
   "source": [
    "import pandas as pd\n",
    "from sklearn.model_selection import cross_validate, ShuffleSplit"
   ]
  },
  {
   "cell_type": "code",
   "execution_count": 32,
   "id": "a1fd36cb",
   "metadata": {},
   "outputs": [],
   "source": [
    "cv = ShuffleSplit(n_splits=30, test_size=0.2)\n",
    "cv_results = cross_validate(regressor, \n",
    "                           data,\n",
    "                           target,\n",
    "                           cv=cv,\n",
    "                           scoring=\"neg_mean_absolute_error\",\n",
    "                           return_train_score=True,\n",
    "                           n_jobs=2)\n",
    "cv_results = pd.DataFrame(cv_results)"
   ]
  },
  {
   "cell_type": "code",
   "execution_count": 33,
   "id": "7cc4b6ba",
   "metadata": {},
   "outputs": [],
   "source": [
    "scores = pd.DataFrame()"
   ]
  },
  {
   "cell_type": "code",
   "execution_count": 37,
   "id": "8486bc01",
   "metadata": {},
   "outputs": [],
   "source": [
    "scores[[\"train_error\", \"test_error\"]] = - cv_results[[\"train_score\", \"test_score\"]]"
   ]
  },
  {
   "cell_type": "code",
   "execution_count": 34,
   "id": "17ca55b8",
   "metadata": {},
   "outputs": [],
   "source": [
    "import matplotlib.pyplot as plt"
   ]
  },
  {
   "cell_type": "code",
   "execution_count": 38,
   "id": "d50745e9",
   "metadata": {},
   "outputs": [
    {
     "data": {
      "text/plain": [
       "<AxesSubplot: ylabel='Frequency'>"
      ]
     },
     "execution_count": 38,
     "metadata": {},
     "output_type": "execute_result"
    },
    {
     "data": {
      "image/png": "[encoded data removed]",
      "text/plain": [
       "<Figure size 640x480 with 1 Axes>"
      ]
     },
     "metadata": {},
     "output_type": "display_data"
    }
   ],
   "source": [
    "scores.plot.hist(bins=50)"
   ]
  },
  {
   "cell_type": "markdown",
   "id": "cdb2f9a3",
   "metadata": {},
   "source": [
    "## Validation curve"
   ]
  },
  {
   "cell_type": "code",
   "execution_count": 39,
   "id": "c42fbc67",
   "metadata": {},
   "outputs": [],
   "source": [
    "from sklearn.model_selection import validation_curve"
   ]
  },
  {
   "cell_type": "code",
   "execution_count": 57,
   "id": "fad12899",
   "metadata": {},
   "outputs": [],
   "source": [
    "max_depth = [5,6,7,8,9,10,11]"
   ]
  },
  {
   "cell_type": "code",
   "execution_count": 58,
   "id": "f2c577d6",
   "metadata": {},
   "outputs": [],
   "source": [
    "train_scores, test_scores = validation_curve(\n",
    "    regressor,\n",
    "    data,\n",
    "    target,\n",
    "    param_name = \"max_depth\",\n",
    "    param_range = max_depth,\n",
    "    cv = cv,\n",
    "    scoring = \"neg_mean_absolute_error\",\n",
    "    n_jobs = 2\n",
    ")"
   ]
  },
  {
   "cell_type": "code",
   "execution_count": 59,
   "id": "78641f79",
   "metadata": {},
   "outputs": [],
   "source": [
    "train_errors, test_errors = -train_scores, -test_scores"
   ]
  },
  {
   "cell_type": "code",
   "execution_count": 60,
   "id": "ad7a7738",
   "metadata": {},
   "outputs": [
    {
     "data": {
      "text/plain": [
       "array([[50.84817461, 50.3008693 , 50.97584184, 51.15690999, 50.97481758,\n",
       "        51.25364536, 50.68614799, 50.59374978, 51.24188929, 51.21908993,\n",
       "        51.27564147, 50.66848911, 51.32652904, 50.91185848, 51.17813592,\n",
       "        50.58138607, 50.9714361 , 50.65444718, 51.11117973, 50.7553874 ,\n",
       "        51.54678124, 51.03735122, 50.92271957, 50.53415115, 51.25689193,\n",
       "        51.42686229, 51.01828986, 51.18248309, 51.53056472, 51.03005432],\n",
       "       [47.62675182, 46.3237105 , 47.60688274, 47.96935659, 48.1681555 ,\n",
       "        47.91287275, 47.26002118, 46.52154392, 47.70096219, 47.96315198,\n",
       "        47.90875035, 46.57029301, 47.73104718, 47.56380511, 47.56958795,\n",
       "        47.42188216, 47.33003472, 47.43023509, 47.50703719, 47.33702982,\n",
       "        47.95258787, 47.5310923 , 46.7155588 , 46.65128272, 47.4873852 ,\n",
       "        47.78597877, 46.67484134, 47.83253964, 48.14224618, 47.91847775],\n",
       "       [44.05462198, 42.66549523, 43.81809819, 44.11997753, 44.66372303,\n",
       "        44.33713302, 43.95423709, 43.02198106, 44.1173399 , 44.41934716,\n",
       "        44.37359264, 42.97294859, 44.23548584, 43.51498242, 44.20057092,\n",
       "        44.09995068, 43.48841485, 44.05159178, 43.82613598, 43.70686867,\n",
       "        44.31457703, 44.09269119, 43.16080119, 43.29649905, 44.0967156 ,\n",
       "        44.29842935, 43.04002835, 44.56978118, 45.03270107, 44.6045026 ],\n",
       "       [40.01822301, 38.91692268, 39.3869924 , 40.0597821 , 40.83747497,\n",
       "        40.45824142, 39.94541658, 38.90644005, 39.83837034, 40.26096262,\n",
       "        40.16447283, 38.88187625, 40.27528726, 39.23317718, 40.38037833,\n",
       "        40.14659536, 40.04373985, 40.02878385, 39.81967764, 40.01795933,\n",
       "        40.31042138, 40.02203064, 39.10515185, 39.38703018, 40.06790514,\n",
       "        40.1678446 , 38.86720147, 40.56552436, 41.12113659, 40.78641561],\n",
       "       [35.9218283 , 35.37101291, 35.57717247, 36.37345509, 36.64478593,\n",
       "        36.78671477, 35.93502287, 35.08915914, 36.00473449, 36.54301537,\n",
       "        36.29635227, 35.12458533, 36.62061924, 35.46915671, 36.29044704,\n",
       "        36.26642694, 35.49681663, 36.47846368, 35.97978392, 35.30677786,\n",
       "        36.23998646, 36.40514774, 35.33969918, 35.27051802, 36.32368917,\n",
       "        36.31300889, 35.4590873 , 36.40071266, 37.25519943, 37.00984423],\n",
       "       [32.02327534, 31.38317831, 31.64699293, 32.02903352, 32.71998283,\n",
       "        32.50893078, 31.95324056, 31.2404229 , 32.42308794, 32.60457122,\n",
       "        32.50912301, 31.45946615, 32.36728068, 31.45931049, 32.00523983,\n",
       "        32.50183318, 31.49379425, 32.4505586 , 31.96402449, 31.37821723,\n",
       "        32.07530131, 32.5946237 , 31.36201065, 31.18859284, 32.42764258,\n",
       "        31.66471744, 31.56485118, 32.69201828, 33.21512234, 33.37011141],\n",
       "       [27.8449665 , 27.20368453, 27.58072241, 27.4156531 , 28.40064961,\n",
       "        27.89649504, 27.85766933, 26.8506171 , 28.4888204 , 28.16730355,\n",
       "        28.24847192, 27.26339458, 27.77767866, 27.44108177, 27.374915  ,\n",
       "        28.31715902, 27.26418022, 28.24900623, 27.7403682 , 26.8877918 ,\n",
       "        27.9233371 , 28.46035974, 26.99796845, 27.03074003, 28.10956702,\n",
       "        27.20766442, 27.50292007, 28.54769475, 28.6759478 , 28.85599758]])"
      ]
     },
     "execution_count": 60,
     "metadata": {},
     "output_type": "execute_result"
    }
   ],
   "source": [
    "train_errors"
   ]
  },
  {
   "cell_type": "code",
   "execution_count": 61,
   "id": "468a0e30",
   "metadata": {},
   "outputs": [
    {
     "data": {
      "text/plain": [
       "<matplotlib.legend.Legend at 0x7f50cef44490>"
      ]
     },
     "execution_count": 61,
     "metadata": {},
     "output_type": "execute_result"
    },
    {
     "data": {
      "image/png": "[encoded data removed]",
      "text/plain": [
       "<Figure size 640x480 with 1 Axes>"
      ]
     },
     "metadata": {},
     "output_type": "display_data"
    }
   ],
   "source": [
    "plt.errorbar(max_depth, train_errors.mean(axis = 1),\n",
    "            yerr=train_errors.std(axis = 1), label=\"Train error\")\n",
    "plt.errorbar(max_depth, test_errors.mean(axis=1),\n",
    "            yerr=test_errors.std(axis=1), label = \"Test error\")\n",
    "plt.legend()\n",
    "            "
   ]
  },
  {
   "cell_type": "markdown",
   "id": "88b60545",
   "metadata": {},
   "source": [
    "## Learning curve"
   ]
  },
  {
   "cell_type": "code",
   "execution_count": 68,
   "id": "4dd4248b",
   "metadata": {},
   "outputs": [],
   "source": [
    "import numpy as np\n",
    "train_sizes = np.linspace(0.1, 1.0,num=5,endpoint=True)"
   ]
  },
  {
   "cell_type": "code",
   "execution_count": 69,
   "id": "250e8ba0",
   "metadata": {},
   "outputs": [
    {
     "data": {
      "text/plain": [
       "array([0.1  , 0.325, 0.55 , 0.775, 1.   ])"
      ]
     },
     "execution_count": 69,
     "metadata": {},
     "output_type": "execute_result"
    }
   ],
   "source": [
    "train_sizes"
   ]
  },
  {
   "cell_type": "code",
   "execution_count": 71,
   "id": "cae06eb8",
   "metadata": {},
   "outputs": [],
   "source": [
    "cv = ShuffleSplit(n_splits=30, test_size=0.2)"
   ]
  },
  {
   "cell_type": "code",
   "execution_count": 72,
   "id": "87c743b0",
   "metadata": {},
   "outputs": [],
   "source": [
    "from sklearn.model_selection import learning_curve"
   ]
  },
  {
   "cell_type": "code",
   "execution_count": 75,
   "id": "ecd803b1",
   "metadata": {},
   "outputs": [],
   "source": [
    "results = learning_curve(\n",
    "    regressor,\n",
    "    data,\n",
    "    target,\n",
    "    train_sizes=train_sizes,\n",
    "    cv=cv,\n",
    "    scoring=\"neg_mean_absolute_error\",\n",
    "    n_jobs=2\n",
    ")"
   ]
  },
  {
   "cell_type": "code",
   "execution_count": 78,
   "id": "4e9f0b0b",
   "metadata": {},
   "outputs": [],
   "source": [
    "train_size, train_scores, test_scores = results[:3]"
   ]
  },
  {
   "cell_type": "code",
   "execution_count": 82,
   "id": "b17d24a8",
   "metadata": {},
   "outputs": [],
   "source": [
    "train_errors, test_errors = -train_scores, -test_scores"
   ]
  },
  {
   "cell_type": "code",
   "execution_count": 91,
   "id": "bbe55f84",
   "metadata": {},
   "outputs": [
    {
     "data": {
      "text/plain": [
       "Text(0, 0.5, 'Mean absolute error, thousands $')"
      ]
     },
     "execution_count": 91,
     "metadata": {},
     "output_type": "execute_result"
    },
    {
     "data": {
      "image/png": "[encoded data removed]",
      "text/plain": [
       "<Figure size 640x480 with 1 Axes>"
      ]
     },
     "metadata": {},
     "output_type": "display_data"
    }
   ],
   "source": [
    "plt.errorbar(train_size, train_errors.mean(axis=1),\n",
    "            yerr=train_errors.std(axis=1), label=\"Train error\"\n",
    "            )\n",
    "plt.errorbar(train_size, test_errors.mean(axis=1),\n",
    "            yerr=test_errors.std(axis=1), label=\"Test error\")\n",
    "plt.legend()\n",
    "plt.xscale(\"log\")\n",
    "plt.xlabel(\"Number of samples in the training set\")\n",
    "plt.ylabel(\"Mean absolute error, thousands $\")"
   ]
  },
  {
   "cell_type": "code",
   "execution_count": null,
   "id": "3a8c1737",
   "metadata": {},
   "outputs": [],
   "source": []
  },
  {
   "cell_type": "code",
   "execution_count": null,
   "id": "1a7c127a",
   "metadata": {},
   "outputs": [],
   "source": []
  },
  {
   "cell_type": "code",
   "execution_count": null,
   "id": "455f1486",
   "metadata": {},
   "outputs": [],
   "source": []
  },
  {
   "cell_type": "code",
   "execution_count": null,
   "id": "21726a71",
   "metadata": {},
   "outputs": [],
   "source": []
  },
  {
   "cell_type": "code",
   "execution_count": null,
   "id": "db562c35",
   "metadata": {},
   "outputs": [],
   "source": []
  },
  {
   "cell_type": "code",
   "execution_count": null,
   "id": "233d0646",
   "metadata": {},
   "outputs": [],
   "source": []
  },
  {
   "cell_type": "code",
   "execution_count": null,
   "id": "27865aef",
   "metadata": {},
   "outputs": [],
   "source": []
  },
  {
   "cell_type": "code",
   "execution_count": null,
   "id": "550061f3",
   "metadata": {},
   "outputs": [],
   "source": []
  },
  {
   "cell_type": "code",
   "execution_count": null,
   "id": "71b4510d",
   "metadata": {},
   "outputs": [],
   "source": []
  }
 ],
 "metadata": {
  "kernelspec": {
   "display_name": "Python 3 (ipykernel)",
   "language": "python",
   "name": "python3"
  },
  "language_info": {
   "codemirror_mode": {
    "name": "ipython",
    "version": 3
   },
   "file_extension": ".py",
   "mimetype": "text/x-python",
   "name": "python",
   "nbconvert_exporter": "python",
   "pygments_lexer": "ipython3",
   "version": "3.11.0"
  }
 },
 "nbformat": 4,
 "nbformat_minor": 5
}
